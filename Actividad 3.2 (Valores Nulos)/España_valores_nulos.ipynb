{
 "cells": [
  {
   "cell_type": "markdown",
   "metadata": {},
   "source": [
    "**Valencia, España**"
   ]
  },
  {
   "cell_type": "code",
   "execution_count": 118,
   "metadata": {},
   "outputs": [],
   "source": [
    "import pandas as pd \n",
    "import numpy as np \n",
    "import matplotlib.pyplot as plt"
   ]
  },
  {
   "cell_type": "code",
   "execution_count": 119,
   "metadata": {},
   "outputs": [
    {
     "data": {
      "text/html": [
       "<div>\n",
       "<style scoped>\n",
       "    .dataframe tbody tr th:only-of-type {\n",
       "        vertical-align: middle;\n",
       "    }\n",
       "\n",
       "    .dataframe tbody tr th {\n",
       "        vertical-align: top;\n",
       "    }\n",
       "\n",
       "    .dataframe thead th {\n",
       "        text-align: right;\n",
       "    }\n",
       "</style>\n",
       "<table border=\"1\" class=\"dataframe\">\n",
       "  <thead>\n",
       "    <tr style=\"text-align: right;\">\n",
       "      <th></th>\n",
       "      <th>id</th>\n",
       "      <th>listing_url</th>\n",
       "      <th>scrape_id</th>\n",
       "      <th>last_scraped</th>\n",
       "      <th>source</th>\n",
       "      <th>name</th>\n",
       "      <th>description</th>\n",
       "      <th>neighborhood_overview</th>\n",
       "      <th>picture_url</th>\n",
       "      <th>host_id</th>\n",
       "      <th>...</th>\n",
       "      <th>review_scores_communication</th>\n",
       "      <th>review_scores_location</th>\n",
       "      <th>review_scores_value</th>\n",
       "      <th>license</th>\n",
       "      <th>instant_bookable</th>\n",
       "      <th>calculated_host_listings_count</th>\n",
       "      <th>calculated_host_listings_count_entire_homes</th>\n",
       "      <th>calculated_host_listings_count_private_rooms</th>\n",
       "      <th>calculated_host_listings_count_shared_rooms</th>\n",
       "      <th>reviews_per_month</th>\n",
       "    </tr>\n",
       "  </thead>\n",
       "  <tbody>\n",
       "    <tr>\n",
       "      <th>0</th>\n",
       "      <td>4.815400e+04</td>\n",
       "      <td>https://www.airbnb.com/rooms/48154</td>\n",
       "      <td>2.024090e+13</td>\n",
       "      <td>18/09/2024</td>\n",
       "      <td>city scrape</td>\n",
       "      <td>Precioso apartamento con wifi</td>\n",
       "      <td>Second floor on a farm from the late 19th cent...</td>\n",
       "      <td>Very close neighborhood to the city's old town...</td>\n",
       "      <td>https://a0.muscache.com/pictures/1109085/9c0d4...</td>\n",
       "      <td>219476</td>\n",
       "      <td>...</td>\n",
       "      <td>4.79</td>\n",
       "      <td>4.51</td>\n",
       "      <td>4.52</td>\n",
       "      <td>VT-41540-V</td>\n",
       "      <td>f</td>\n",
       "      <td>4</td>\n",
       "      <td>4</td>\n",
       "      <td>0</td>\n",
       "      <td>0</td>\n",
       "      <td>1.01</td>\n",
       "    </tr>\n",
       "    <tr>\n",
       "      <th>1</th>\n",
       "      <td>1.371430e+05</td>\n",
       "      <td>https://www.airbnb.com/rooms/137143</td>\n",
       "      <td>2.024090e+13</td>\n",
       "      <td>18/09/2024</td>\n",
       "      <td>city scrape</td>\n",
       "      <td>PENTHOUSE  ON FRONT LINE BEACH</td>\n",
       "      <td>NaN</td>\n",
       "      <td>NaN</td>\n",
       "      <td>https://a0.muscache.com/pictures/hosting/Hosti...</td>\n",
       "      <td>670775</td>\n",
       "      <td>...</td>\n",
       "      <td>5.00</td>\n",
       "      <td>4.00</td>\n",
       "      <td>4.00</td>\n",
       "      <td>VT32745V</td>\n",
       "      <td>f</td>\n",
       "      <td>5</td>\n",
       "      <td>5</td>\n",
       "      <td>0</td>\n",
       "      <td>0</td>\n",
       "      <td>0.01</td>\n",
       "    </tr>\n",
       "    <tr>\n",
       "      <th>2</th>\n",
       "      <td>1.497150e+05</td>\n",
       "      <td>https://www.airbnb.com/rooms/149715</td>\n",
       "      <td>2.024090e+13</td>\n",
       "      <td>18/09/2024</td>\n",
       "      <td>city scrape</td>\n",
       "      <td>1900 Style Valencian Beach  Home for 10px</td>\n",
       "      <td>Typical town house with 5 bedrooms and 4 bathr...</td>\n",
       "      <td>Surrounded by  historic houses,  authentic res...</td>\n",
       "      <td>https://a0.muscache.com/pictures/7507244a-87d8...</td>\n",
       "      <td>5947</td>\n",
       "      <td>...</td>\n",
       "      <td>4.89</td>\n",
       "      <td>4.60</td>\n",
       "      <td>4.63</td>\n",
       "      <td>NÂº TURISMO VT36469V  CATEGORIA: standard</td>\n",
       "      <td>f</td>\n",
       "      <td>1</td>\n",
       "      <td>1</td>\n",
       "      <td>0</td>\n",
       "      <td>0</td>\n",
       "      <td>1.68</td>\n",
       "    </tr>\n",
       "    <tr>\n",
       "      <th>3</th>\n",
       "      <td>1.659710e+05</td>\n",
       "      <td>https://www.airbnb.com/rooms/165971</td>\n",
       "      <td>2.024090e+13</td>\n",
       "      <td>18/09/2024</td>\n",
       "      <td>city scrape</td>\n",
       "      <td>â Architectural touch! â</td>\n",
       "      <td>Hola! I am ready to welcome you in my apt., wh...</td>\n",
       "      <td>Just outside the old city centre (one block aw...</td>\n",
       "      <td>https://a0.muscache.com/pictures/10878830/ade6...</td>\n",
       "      <td>791187</td>\n",
       "      <td>...</td>\n",
       "      <td>4.87</td>\n",
       "      <td>4.84</td>\n",
       "      <td>4.85</td>\n",
       "      <td>VT-32757-V</td>\n",
       "      <td>t</td>\n",
       "      <td>6</td>\n",
       "      <td>6</td>\n",
       "      <td>0</td>\n",
       "      <td>0</td>\n",
       "      <td>3.31</td>\n",
       "    </tr>\n",
       "    <tr>\n",
       "      <th>4</th>\n",
       "      <td>1.692840e+05</td>\n",
       "      <td>https://www.airbnb.com/rooms/169284</td>\n",
       "      <td>2.024090e+13</td>\n",
       "      <td>18/09/2024</td>\n",
       "      <td>city scrape</td>\n",
       "      <td>Apartment near downtown</td>\n",
       "      <td>NaN</td>\n",
       "      <td>It's a neighborhood with all amenities. 200 me...</td>\n",
       "      <td>https://a0.muscache.com/pictures/14393073/b549...</td>\n",
       "      <td>806645</td>\n",
       "      <td>...</td>\n",
       "      <td>4.78</td>\n",
       "      <td>4.52</td>\n",
       "      <td>4.41</td>\n",
       "      <td>NaN</td>\n",
       "      <td>f</td>\n",
       "      <td>8</td>\n",
       "      <td>5</td>\n",
       "      <td>3</td>\n",
       "      <td>0</td>\n",
       "      <td>1.17</td>\n",
       "    </tr>\n",
       "    <tr>\n",
       "      <th>...</th>\n",
       "      <td>...</td>\n",
       "      <td>...</td>\n",
       "      <td>...</td>\n",
       "      <td>...</td>\n",
       "      <td>...</td>\n",
       "      <td>...</td>\n",
       "      <td>...</td>\n",
       "      <td>...</td>\n",
       "      <td>...</td>\n",
       "      <td>...</td>\n",
       "      <td>...</td>\n",
       "      <td>...</td>\n",
       "      <td>...</td>\n",
       "      <td>...</td>\n",
       "      <td>...</td>\n",
       "      <td>...</td>\n",
       "      <td>...</td>\n",
       "      <td>...</td>\n",
       "      <td>...</td>\n",
       "      <td>...</td>\n",
       "      <td>...</td>\n",
       "    </tr>\n",
       "    <tr>\n",
       "      <th>9442</th>\n",
       "      <td>1.247690e+18</td>\n",
       "      <td>https://www.airbnb.com/rooms/1247688630964779070</td>\n",
       "      <td>2.024090e+13</td>\n",
       "      <td>18/09/2024</td>\n",
       "      <td>city scrape</td>\n",
       "      <td>Preciosa habitaciÃ³n en Ruzafa en piso compartido</td>\n",
       "      <td>NaN</td>\n",
       "      <td>NaN</td>\n",
       "      <td>https://a0.muscache.com/pictures/miso/Hosting-...</td>\n",
       "      <td>576254600</td>\n",
       "      <td>...</td>\n",
       "      <td>NaN</td>\n",
       "      <td>NaN</td>\n",
       "      <td>NaN</td>\n",
       "      <td>NaN</td>\n",
       "      <td>f</td>\n",
       "      <td>1</td>\n",
       "      <td>0</td>\n",
       "      <td>1</td>\n",
       "      <td>0</td>\n",
       "      <td>NaN</td>\n",
       "    </tr>\n",
       "    <tr>\n",
       "      <th>9443</th>\n",
       "      <td>1.247690e+18</td>\n",
       "      <td>https://www.airbnb.com/rooms/1247692918887242627</td>\n",
       "      <td>2.024090e+13</td>\n",
       "      <td>19/09/2024</td>\n",
       "      <td>city scrape</td>\n",
       "      <td>Spirit of Mercat 1 - Chic Studio</td>\n",
       "      <td>Spirit of Mercat 1 offers everything for you t...</td>\n",
       "      <td>NaN</td>\n",
       "      <td>https://a0.muscache.com/pictures/miso/Hosting-...</td>\n",
       "      <td>569472969</td>\n",
       "      <td>...</td>\n",
       "      <td>NaN</td>\n",
       "      <td>NaN</td>\n",
       "      <td>NaN</td>\n",
       "      <td>NaN</td>\n",
       "      <td>f</td>\n",
       "      <td>7</td>\n",
       "      <td>7</td>\n",
       "      <td>0</td>\n",
       "      <td>0</td>\n",
       "      <td>NaN</td>\n",
       "    </tr>\n",
       "    <tr>\n",
       "      <th>9444</th>\n",
       "      <td>1.247700e+18</td>\n",
       "      <td>https://www.airbnb.com/rooms/1247696223333878783</td>\n",
       "      <td>2.024090e+13</td>\n",
       "      <td>18/09/2024</td>\n",
       "      <td>city scrape</td>\n",
       "      <td>The Nest, a high top floor</td>\n",
       "      <td>Make some memories at this unique and family-f...</td>\n",
       "      <td>NaN</td>\n",
       "      <td>https://a0.muscache.com/pictures/hosting/Hosti...</td>\n",
       "      <td>139048962</td>\n",
       "      <td>...</td>\n",
       "      <td>NaN</td>\n",
       "      <td>NaN</td>\n",
       "      <td>NaN</td>\n",
       "      <td>NaN</td>\n",
       "      <td>f</td>\n",
       "      <td>1</td>\n",
       "      <td>0</td>\n",
       "      <td>1</td>\n",
       "      <td>0</td>\n",
       "      <td>NaN</td>\n",
       "    </tr>\n",
       "    <tr>\n",
       "      <th>9445</th>\n",
       "      <td>1.247840e+18</td>\n",
       "      <td>https://www.airbnb.com/rooms/1247844761890740750</td>\n",
       "      <td>2.024090e+13</td>\n",
       "      <td>18/09/2024</td>\n",
       "      <td>city scrape</td>\n",
       "      <td>Turia II</td>\n",
       "      <td>This modern and bright apartment, located on t...</td>\n",
       "      <td>NaN</td>\n",
       "      <td>https://a0.muscache.com/pictures/prohost-api/H...</td>\n",
       "      <td>438136382</td>\n",
       "      <td>...</td>\n",
       "      <td>NaN</td>\n",
       "      <td>NaN</td>\n",
       "      <td>NaN</td>\n",
       "      <td>NaN</td>\n",
       "      <td>f</td>\n",
       "      <td>2</td>\n",
       "      <td>2</td>\n",
       "      <td>0</td>\n",
       "      <td>0</td>\n",
       "      <td>NaN</td>\n",
       "    </tr>\n",
       "    <tr>\n",
       "      <th>9446</th>\n",
       "      <td>1.247850e+18</td>\n",
       "      <td>https://www.airbnb.com/rooms/1247854274800248588</td>\n",
       "      <td>2.024090e+13</td>\n",
       "      <td>18/09/2024</td>\n",
       "      <td>city scrape</td>\n",
       "      <td>Turia VII</td>\n",
       "      <td>This modern and bright apartment, located on t...</td>\n",
       "      <td>NaN</td>\n",
       "      <td>https://a0.muscache.com/pictures/prohost-api/H...</td>\n",
       "      <td>438136382</td>\n",
       "      <td>...</td>\n",
       "      <td>NaN</td>\n",
       "      <td>NaN</td>\n",
       "      <td>NaN</td>\n",
       "      <td>NaN</td>\n",
       "      <td>f</td>\n",
       "      <td>2</td>\n",
       "      <td>2</td>\n",
       "      <td>0</td>\n",
       "      <td>0</td>\n",
       "      <td>NaN</td>\n",
       "    </tr>\n",
       "  </tbody>\n",
       "</table>\n",
       "<p>9447 rows × 75 columns</p>\n",
       "</div>"
      ],
      "text/plain": [
       "                id                                       listing_url  \\\n",
       "0     4.815400e+04                https://www.airbnb.com/rooms/48154   \n",
       "1     1.371430e+05               https://www.airbnb.com/rooms/137143   \n",
       "2     1.497150e+05               https://www.airbnb.com/rooms/149715   \n",
       "3     1.659710e+05               https://www.airbnb.com/rooms/165971   \n",
       "4     1.692840e+05               https://www.airbnb.com/rooms/169284   \n",
       "...            ...                                               ...   \n",
       "9442  1.247690e+18  https://www.airbnb.com/rooms/1247688630964779070   \n",
       "9443  1.247690e+18  https://www.airbnb.com/rooms/1247692918887242627   \n",
       "9444  1.247700e+18  https://www.airbnb.com/rooms/1247696223333878783   \n",
       "9445  1.247840e+18  https://www.airbnb.com/rooms/1247844761890740750   \n",
       "9446  1.247850e+18  https://www.airbnb.com/rooms/1247854274800248588   \n",
       "\n",
       "         scrape_id last_scraped       source  \\\n",
       "0     2.024090e+13   18/09/2024  city scrape   \n",
       "1     2.024090e+13   18/09/2024  city scrape   \n",
       "2     2.024090e+13   18/09/2024  city scrape   \n",
       "3     2.024090e+13   18/09/2024  city scrape   \n",
       "4     2.024090e+13   18/09/2024  city scrape   \n",
       "...            ...          ...          ...   \n",
       "9442  2.024090e+13   18/09/2024  city scrape   \n",
       "9443  2.024090e+13   19/09/2024  city scrape   \n",
       "9444  2.024090e+13   18/09/2024  city scrape   \n",
       "9445  2.024090e+13   18/09/2024  city scrape   \n",
       "9446  2.024090e+13   18/09/2024  city scrape   \n",
       "\n",
       "                                                   name  \\\n",
       "0                         Precioso apartamento con wifi   \n",
       "1                        PENTHOUSE  ON FRONT LINE BEACH   \n",
       "2             1900 Style Valencian Beach  Home for 10px   \n",
       "3                          â\n",
       " Architectural touch! â\n",
       "   \n",
       "4                               Apartment near downtown   \n",
       "...                                                 ...   \n",
       "9442  Preciosa habitaciÃ³n en Ruzafa en piso compartido   \n",
       "9443                   Spirit of Mercat 1 - Chic Studio   \n",
       "9444                         The Nest, a high top floor   \n",
       "9445                                           Turia II   \n",
       "9446                                          Turia VII   \n",
       "\n",
       "                                            description  \\\n",
       "0     Second floor on a farm from the late 19th cent...   \n",
       "1                                                   NaN   \n",
       "2     Typical town house with 5 bedrooms and 4 bathr...   \n",
       "3     Hola! I am ready to welcome you in my apt., wh...   \n",
       "4                                                   NaN   \n",
       "...                                                 ...   \n",
       "9442                                                NaN   \n",
       "9443  Spirit of Mercat 1 offers everything for you t...   \n",
       "9444  Make some memories at this unique and family-f...   \n",
       "9445  This modern and bright apartment, located on t...   \n",
       "9446  This modern and bright apartment, located on t...   \n",
       "\n",
       "                                  neighborhood_overview  \\\n",
       "0     Very close neighborhood to the city's old town...   \n",
       "1                                                   NaN   \n",
       "2     Surrounded by  historic houses,  authentic res...   \n",
       "3     Just outside the old city centre (one block aw...   \n",
       "4     It's a neighborhood with all amenities. 200 me...   \n",
       "...                                                 ...   \n",
       "9442                                                NaN   \n",
       "9443                                                NaN   \n",
       "9444                                                NaN   \n",
       "9445                                                NaN   \n",
       "9446                                                NaN   \n",
       "\n",
       "                                            picture_url    host_id  ...  \\\n",
       "0     https://a0.muscache.com/pictures/1109085/9c0d4...     219476  ...   \n",
       "1     https://a0.muscache.com/pictures/hosting/Hosti...     670775  ...   \n",
       "2     https://a0.muscache.com/pictures/7507244a-87d8...       5947  ...   \n",
       "3     https://a0.muscache.com/pictures/10878830/ade6...     791187  ...   \n",
       "4     https://a0.muscache.com/pictures/14393073/b549...     806645  ...   \n",
       "...                                                 ...        ...  ...   \n",
       "9442  https://a0.muscache.com/pictures/miso/Hosting-...  576254600  ...   \n",
       "9443  https://a0.muscache.com/pictures/miso/Hosting-...  569472969  ...   \n",
       "9444  https://a0.muscache.com/pictures/hosting/Hosti...  139048962  ...   \n",
       "9445  https://a0.muscache.com/pictures/prohost-api/H...  438136382  ...   \n",
       "9446  https://a0.muscache.com/pictures/prohost-api/H...  438136382  ...   \n",
       "\n",
       "     review_scores_communication review_scores_location review_scores_value  \\\n",
       "0                           4.79                   4.51                4.52   \n",
       "1                           5.00                   4.00                4.00   \n",
       "2                           4.89                   4.60                4.63   \n",
       "3                           4.87                   4.84                4.85   \n",
       "4                           4.78                   4.52                4.41   \n",
       "...                          ...                    ...                 ...   \n",
       "9442                         NaN                    NaN                 NaN   \n",
       "9443                         NaN                    NaN                 NaN   \n",
       "9444                         NaN                    NaN                 NaN   \n",
       "9445                         NaN                    NaN                 NaN   \n",
       "9446                         NaN                    NaN                 NaN   \n",
       "\n",
       "                                        license instant_bookable  \\\n",
       "0                                    VT-41540-V                f   \n",
       "1                                      VT32745V                f   \n",
       "2     NÂº TURISMO VT36469V  CATEGORIA: standard                f   \n",
       "3                                    VT-32757-V                t   \n",
       "4                                           NaN                f   \n",
       "...                                         ...              ...   \n",
       "9442                                        NaN                f   \n",
       "9443                                        NaN                f   \n",
       "9444                                        NaN                f   \n",
       "9445                                        NaN                f   \n",
       "9446                                        NaN                f   \n",
       "\n",
       "     calculated_host_listings_count  \\\n",
       "0                                 4   \n",
       "1                                 5   \n",
       "2                                 1   \n",
       "3                                 6   \n",
       "4                                 8   \n",
       "...                             ...   \n",
       "9442                              1   \n",
       "9443                              7   \n",
       "9444                              1   \n",
       "9445                              2   \n",
       "9446                              2   \n",
       "\n",
       "     calculated_host_listings_count_entire_homes  \\\n",
       "0                                              4   \n",
       "1                                              5   \n",
       "2                                              1   \n",
       "3                                              6   \n",
       "4                                              5   \n",
       "...                                          ...   \n",
       "9442                                           0   \n",
       "9443                                           7   \n",
       "9444                                           0   \n",
       "9445                                           2   \n",
       "9446                                           2   \n",
       "\n",
       "     calculated_host_listings_count_private_rooms  \\\n",
       "0                                               0   \n",
       "1                                               0   \n",
       "2                                               0   \n",
       "3                                               0   \n",
       "4                                               3   \n",
       "...                                           ...   \n",
       "9442                                            1   \n",
       "9443                                            0   \n",
       "9444                                            1   \n",
       "9445                                            0   \n",
       "9446                                            0   \n",
       "\n",
       "     calculated_host_listings_count_shared_rooms reviews_per_month  \n",
       "0                                              0              1.01  \n",
       "1                                              0              0.01  \n",
       "2                                              0              1.68  \n",
       "3                                              0              3.31  \n",
       "4                                              0              1.17  \n",
       "...                                          ...               ...  \n",
       "9442                                           0               NaN  \n",
       "9443                                           0               NaN  \n",
       "9444                                           0               NaN  \n",
       "9445                                           0               NaN  \n",
       "9446                                           0               NaN  \n",
       "\n",
       "[9447 rows x 75 columns]"
      ]
     },
     "execution_count": 119,
     "metadata": {},
     "output_type": "execute_result"
    }
   ],
   "source": [
    "#CARGAR DESDE UN ARCHIVO .CSV \n",
    "data =pd.read_csv('Valencia_España.csv', encoding='latin1')\n",
    "data"
   ]
  },
  {
   "cell_type": "code",
   "execution_count": 120,
   "metadata": {},
   "outputs": [
    {
     "data": {
      "text/plain": [
       "id                                                 0\n",
       "listing_url                                        0\n",
       "scrape_id                                          0\n",
       "last_scraped                                       0\n",
       "source                                             0\n",
       "                                                ... \n",
       "calculated_host_listings_count                     0\n",
       "calculated_host_listings_count_entire_homes        0\n",
       "calculated_host_listings_count_private_rooms       0\n",
       "calculated_host_listings_count_shared_rooms        0\n",
       "reviews_per_month                               1451\n",
       "Length: 75, dtype: int64"
      ]
     },
     "execution_count": 120,
     "metadata": {},
     "output_type": "execute_result"
    }
   ],
   "source": [
    "#Identificar valores nulos por columna\n",
    "valores_nulos=data.isnull().sum()\n",
    "valores_nulos"
   ]
  },
  {
   "cell_type": "code",
   "execution_count": 177,
   "metadata": {},
   "outputs": [
    {
     "data": {
      "text/html": [
       "<div>\n",
       "<style scoped>\n",
       "    .dataframe tbody tr th:only-of-type {\n",
       "        vertical-align: middle;\n",
       "    }\n",
       "\n",
       "    .dataframe tbody tr th {\n",
       "        vertical-align: top;\n",
       "    }\n",
       "\n",
       "    .dataframe thead th {\n",
       "        text-align: right;\n",
       "    }\n",
       "</style>\n",
       "<table border=\"1\" class=\"dataframe\">\n",
       "  <thead>\n",
       "    <tr style=\"text-align: right;\">\n",
       "      <th></th>\n",
       "      <th>id</th>\n",
       "      <th>listing_url</th>\n",
       "      <th>scrape_id</th>\n",
       "      <th>last_scraped</th>\n",
       "      <th>source</th>\n",
       "      <th>name</th>\n",
       "      <th>neighborhood_overview</th>\n",
       "      <th>picture_url</th>\n",
       "      <th>host_id</th>\n",
       "      <th>host_url</th>\n",
       "      <th>...</th>\n",
       "      <th>calendar_updated</th>\n",
       "      <th>has_availability</th>\n",
       "      <th>availability_365</th>\n",
       "      <th>number_of_reviews</th>\n",
       "      <th>review_scores_rating</th>\n",
       "      <th>review_scores_cleanliness</th>\n",
       "      <th>review_scores_communication</th>\n",
       "      <th>review_scores_location</th>\n",
       "      <th>instant_bookable</th>\n",
       "      <th>reviews_per_month</th>\n",
       "    </tr>\n",
       "  </thead>\n",
       "  <tbody>\n",
       "    <tr>\n",
       "      <th>0</th>\n",
       "      <td>4.815400e+04</td>\n",
       "      <td>https://www.airbnb.com/rooms/48154</td>\n",
       "      <td>2.024090e+13</td>\n",
       "      <td>18/09/2024</td>\n",
       "      <td>city scrape</td>\n",
       "      <td>Precioso apartamento con wifi</td>\n",
       "      <td>Very close neighborhood to the city's old town...</td>\n",
       "      <td>https://a0.muscache.com/pictures/1109085/9c0d4...</td>\n",
       "      <td>219476</td>\n",
       "      <td>https://www.airbnb.com/users/show/219476</td>\n",
       "      <td>...</td>\n",
       "      <td>NaN</td>\n",
       "      <td>t</td>\n",
       "      <td>149</td>\n",
       "      <td>171</td>\n",
       "      <td>4.61</td>\n",
       "      <td>4.63</td>\n",
       "      <td>4.79</td>\n",
       "      <td>4.51</td>\n",
       "      <td>f</td>\n",
       "      <td>1.01</td>\n",
       "    </tr>\n",
       "    <tr>\n",
       "      <th>1</th>\n",
       "      <td>1.371430e+05</td>\n",
       "      <td>https://www.airbnb.com/rooms/137143</td>\n",
       "      <td>2.024090e+13</td>\n",
       "      <td>18/09/2024</td>\n",
       "      <td>city scrape</td>\n",
       "      <td>PENTHOUSE  ON FRONT LINE BEACH</td>\n",
       "      <td>NaN</td>\n",
       "      <td>https://a0.muscache.com/pictures/hosting/Hosti...</td>\n",
       "      <td>670775</td>\n",
       "      <td>https://www.airbnb.com/users/show/670775</td>\n",
       "      <td>...</td>\n",
       "      <td>NaN</td>\n",
       "      <td>t</td>\n",
       "      <td>94</td>\n",
       "      <td>1</td>\n",
       "      <td>0.00</td>\n",
       "      <td>5.00</td>\n",
       "      <td>5.00</td>\n",
       "      <td>4.00</td>\n",
       "      <td>f</td>\n",
       "      <td>0.01</td>\n",
       "    </tr>\n",
       "    <tr>\n",
       "      <th>2</th>\n",
       "      <td>1.497150e+05</td>\n",
       "      <td>https://www.airbnb.com/rooms/149715</td>\n",
       "      <td>2.024090e+13</td>\n",
       "      <td>18/09/2024</td>\n",
       "      <td>city scrape</td>\n",
       "      <td>1900 Style Valencian Beach  Home for 10px</td>\n",
       "      <td>Surrounded by  historic houses,  authentic res...</td>\n",
       "      <td>https://a0.muscache.com/pictures/7507244a-87d8...</td>\n",
       "      <td>5947</td>\n",
       "      <td>https://www.airbnb.com/users/show/5947</td>\n",
       "      <td>...</td>\n",
       "      <td>NaN</td>\n",
       "      <td>t</td>\n",
       "      <td>306</td>\n",
       "      <td>269</td>\n",
       "      <td>4.66</td>\n",
       "      <td>4.55</td>\n",
       "      <td>4.89</td>\n",
       "      <td>4.60</td>\n",
       "      <td>f</td>\n",
       "      <td>1.68</td>\n",
       "    </tr>\n",
       "    <tr>\n",
       "      <th>3</th>\n",
       "      <td>1.659710e+05</td>\n",
       "      <td>https://www.airbnb.com/rooms/165971</td>\n",
       "      <td>2.024090e+13</td>\n",
       "      <td>18/09/2024</td>\n",
       "      <td>city scrape</td>\n",
       "      <td>â Architectural touch! â</td>\n",
       "      <td>Just outside the old city centre (one block aw...</td>\n",
       "      <td>https://a0.muscache.com/pictures/10878830/ade6...</td>\n",
       "      <td>791187</td>\n",
       "      <td>https://www.airbnb.com/users/show/791187</td>\n",
       "      <td>...</td>\n",
       "      <td>NaN</td>\n",
       "      <td>t</td>\n",
       "      <td>79</td>\n",
       "      <td>530</td>\n",
       "      <td>4.87</td>\n",
       "      <td>4.88</td>\n",
       "      <td>4.87</td>\n",
       "      <td>4.84</td>\n",
       "      <td>t</td>\n",
       "      <td>3.31</td>\n",
       "    </tr>\n",
       "    <tr>\n",
       "      <th>4</th>\n",
       "      <td>1.692840e+05</td>\n",
       "      <td>https://www.airbnb.com/rooms/169284</td>\n",
       "      <td>2.024090e+13</td>\n",
       "      <td>18/09/2024</td>\n",
       "      <td>city scrape</td>\n",
       "      <td>Apartment near downtown</td>\n",
       "      <td>It's a neighborhood with all amenities. 200 me...</td>\n",
       "      <td>https://a0.muscache.com/pictures/14393073/b549...</td>\n",
       "      <td>806645</td>\n",
       "      <td>https://www.airbnb.com/users/show/806645</td>\n",
       "      <td>...</td>\n",
       "      <td>NaN</td>\n",
       "      <td>t</td>\n",
       "      <td>280</td>\n",
       "      <td>160</td>\n",
       "      <td>4.41</td>\n",
       "      <td>4.44</td>\n",
       "      <td>4.78</td>\n",
       "      <td>4.52</td>\n",
       "      <td>f</td>\n",
       "      <td>1.17</td>\n",
       "    </tr>\n",
       "    <tr>\n",
       "      <th>...</th>\n",
       "      <td>...</td>\n",
       "      <td>...</td>\n",
       "      <td>...</td>\n",
       "      <td>...</td>\n",
       "      <td>...</td>\n",
       "      <td>...</td>\n",
       "      <td>...</td>\n",
       "      <td>...</td>\n",
       "      <td>...</td>\n",
       "      <td>...</td>\n",
       "      <td>...</td>\n",
       "      <td>...</td>\n",
       "      <td>...</td>\n",
       "      <td>...</td>\n",
       "      <td>...</td>\n",
       "      <td>...</td>\n",
       "      <td>...</td>\n",
       "      <td>...</td>\n",
       "      <td>...</td>\n",
       "      <td>...</td>\n",
       "      <td>...</td>\n",
       "    </tr>\n",
       "    <tr>\n",
       "      <th>9442</th>\n",
       "      <td>1.247690e+18</td>\n",
       "      <td>https://www.airbnb.com/rooms/1247688630964779070</td>\n",
       "      <td>2.024090e+13</td>\n",
       "      <td>18/09/2024</td>\n",
       "      <td>city scrape</td>\n",
       "      <td>Preciosa habitaciÃ³n en Ruzafa en piso compartido</td>\n",
       "      <td>NaN</td>\n",
       "      <td>https://a0.muscache.com/pictures/miso/Hosting-...</td>\n",
       "      <td>576254600</td>\n",
       "      <td>https://www.airbnb.com/users/show/576254600</td>\n",
       "      <td>...</td>\n",
       "      <td>NaN</td>\n",
       "      <td>NaN</td>\n",
       "      <td>363</td>\n",
       "      <td>0</td>\n",
       "      <td>NaN</td>\n",
       "      <td>NaN</td>\n",
       "      <td>NaN</td>\n",
       "      <td>NaN</td>\n",
       "      <td>f</td>\n",
       "      <td>NaN</td>\n",
       "    </tr>\n",
       "    <tr>\n",
       "      <th>9443</th>\n",
       "      <td>1.247690e+18</td>\n",
       "      <td>https://www.airbnb.com/rooms/1247692918887242627</td>\n",
       "      <td>2.024090e+13</td>\n",
       "      <td>19/09/2024</td>\n",
       "      <td>city scrape</td>\n",
       "      <td>Spirit of Mercat 1 - Chic Studio</td>\n",
       "      <td>NaN</td>\n",
       "      <td>https://a0.muscache.com/pictures/miso/Hosting-...</td>\n",
       "      <td>569472969</td>\n",
       "      <td>https://www.airbnb.com/users/show/569472969</td>\n",
       "      <td>...</td>\n",
       "      <td>NaN</td>\n",
       "      <td>NaN</td>\n",
       "      <td>323</td>\n",
       "      <td>0</td>\n",
       "      <td>NaN</td>\n",
       "      <td>NaN</td>\n",
       "      <td>NaN</td>\n",
       "      <td>NaN</td>\n",
       "      <td>f</td>\n",
       "      <td>NaN</td>\n",
       "    </tr>\n",
       "    <tr>\n",
       "      <th>9444</th>\n",
       "      <td>1.247700e+18</td>\n",
       "      <td>https://www.airbnb.com/rooms/1247696223333878783</td>\n",
       "      <td>2.024090e+13</td>\n",
       "      <td>18/09/2024</td>\n",
       "      <td>city scrape</td>\n",
       "      <td>The Nest, a high top floor</td>\n",
       "      <td>NaN</td>\n",
       "      <td>https://a0.muscache.com/pictures/hosting/Hosti...</td>\n",
       "      <td>139048962</td>\n",
       "      <td>https://www.airbnb.com/users/show/139048962</td>\n",
       "      <td>...</td>\n",
       "      <td>NaN</td>\n",
       "      <td>t</td>\n",
       "      <td>18</td>\n",
       "      <td>0</td>\n",
       "      <td>NaN</td>\n",
       "      <td>NaN</td>\n",
       "      <td>NaN</td>\n",
       "      <td>NaN</td>\n",
       "      <td>f</td>\n",
       "      <td>NaN</td>\n",
       "    </tr>\n",
       "    <tr>\n",
       "      <th>9445</th>\n",
       "      <td>1.247840e+18</td>\n",
       "      <td>https://www.airbnb.com/rooms/1247844761890740750</td>\n",
       "      <td>2.024090e+13</td>\n",
       "      <td>18/09/2024</td>\n",
       "      <td>city scrape</td>\n",
       "      <td>Turia II</td>\n",
       "      <td>NaN</td>\n",
       "      <td>https://a0.muscache.com/pictures/prohost-api/H...</td>\n",
       "      <td>438136382</td>\n",
       "      <td>https://www.airbnb.com/users/show/438136382</td>\n",
       "      <td>...</td>\n",
       "      <td>NaN</td>\n",
       "      <td>t</td>\n",
       "      <td>283</td>\n",
       "      <td>0</td>\n",
       "      <td>NaN</td>\n",
       "      <td>NaN</td>\n",
       "      <td>NaN</td>\n",
       "      <td>NaN</td>\n",
       "      <td>f</td>\n",
       "      <td>NaN</td>\n",
       "    </tr>\n",
       "    <tr>\n",
       "      <th>9446</th>\n",
       "      <td>1.247850e+18</td>\n",
       "      <td>https://www.airbnb.com/rooms/1247854274800248588</td>\n",
       "      <td>2.024090e+13</td>\n",
       "      <td>18/09/2024</td>\n",
       "      <td>city scrape</td>\n",
       "      <td>Turia VII</td>\n",
       "      <td>NaN</td>\n",
       "      <td>https://a0.muscache.com/pictures/prohost-api/H...</td>\n",
       "      <td>438136382</td>\n",
       "      <td>https://www.airbnb.com/users/show/438136382</td>\n",
       "      <td>...</td>\n",
       "      <td>NaN</td>\n",
       "      <td>t</td>\n",
       "      <td>283</td>\n",
       "      <td>0</td>\n",
       "      <td>NaN</td>\n",
       "      <td>NaN</td>\n",
       "      <td>NaN</td>\n",
       "      <td>NaN</td>\n",
       "      <td>f</td>\n",
       "      <td>NaN</td>\n",
       "    </tr>\n",
       "  </tbody>\n",
       "</table>\n",
       "<p>9447 rows × 50 columns</p>\n",
       "</div>"
      ],
      "text/plain": [
       "                id                                       listing_url  \\\n",
       "0     4.815400e+04                https://www.airbnb.com/rooms/48154   \n",
       "1     1.371430e+05               https://www.airbnb.com/rooms/137143   \n",
       "2     1.497150e+05               https://www.airbnb.com/rooms/149715   \n",
       "3     1.659710e+05               https://www.airbnb.com/rooms/165971   \n",
       "4     1.692840e+05               https://www.airbnb.com/rooms/169284   \n",
       "...            ...                                               ...   \n",
       "9442  1.247690e+18  https://www.airbnb.com/rooms/1247688630964779070   \n",
       "9443  1.247690e+18  https://www.airbnb.com/rooms/1247692918887242627   \n",
       "9444  1.247700e+18  https://www.airbnb.com/rooms/1247696223333878783   \n",
       "9445  1.247840e+18  https://www.airbnb.com/rooms/1247844761890740750   \n",
       "9446  1.247850e+18  https://www.airbnb.com/rooms/1247854274800248588   \n",
       "\n",
       "         scrape_id last_scraped       source  \\\n",
       "0     2.024090e+13   18/09/2024  city scrape   \n",
       "1     2.024090e+13   18/09/2024  city scrape   \n",
       "2     2.024090e+13   18/09/2024  city scrape   \n",
       "3     2.024090e+13   18/09/2024  city scrape   \n",
       "4     2.024090e+13   18/09/2024  city scrape   \n",
       "...            ...          ...          ...   \n",
       "9442  2.024090e+13   18/09/2024  city scrape   \n",
       "9443  2.024090e+13   19/09/2024  city scrape   \n",
       "9444  2.024090e+13   18/09/2024  city scrape   \n",
       "9445  2.024090e+13   18/09/2024  city scrape   \n",
       "9446  2.024090e+13   18/09/2024  city scrape   \n",
       "\n",
       "                                                   name  \\\n",
       "0                         Precioso apartamento con wifi   \n",
       "1                        PENTHOUSE  ON FRONT LINE BEACH   \n",
       "2             1900 Style Valencian Beach  Home for 10px   \n",
       "3                          â\n",
       " Architectural touch! â\n",
       "   \n",
       "4                               Apartment near downtown   \n",
       "...                                                 ...   \n",
       "9442  Preciosa habitaciÃ³n en Ruzafa en piso compartido   \n",
       "9443                   Spirit of Mercat 1 - Chic Studio   \n",
       "9444                         The Nest, a high top floor   \n",
       "9445                                           Turia II   \n",
       "9446                                          Turia VII   \n",
       "\n",
       "                                  neighborhood_overview  \\\n",
       "0     Very close neighborhood to the city's old town...   \n",
       "1                                                   NaN   \n",
       "2     Surrounded by  historic houses,  authentic res...   \n",
       "3     Just outside the old city centre (one block aw...   \n",
       "4     It's a neighborhood with all amenities. 200 me...   \n",
       "...                                                 ...   \n",
       "9442                                                NaN   \n",
       "9443                                                NaN   \n",
       "9444                                                NaN   \n",
       "9445                                                NaN   \n",
       "9446                                                NaN   \n",
       "\n",
       "                                            picture_url    host_id  \\\n",
       "0     https://a0.muscache.com/pictures/1109085/9c0d4...     219476   \n",
       "1     https://a0.muscache.com/pictures/hosting/Hosti...     670775   \n",
       "2     https://a0.muscache.com/pictures/7507244a-87d8...       5947   \n",
       "3     https://a0.muscache.com/pictures/10878830/ade6...     791187   \n",
       "4     https://a0.muscache.com/pictures/14393073/b549...     806645   \n",
       "...                                                 ...        ...   \n",
       "9442  https://a0.muscache.com/pictures/miso/Hosting-...  576254600   \n",
       "9443  https://a0.muscache.com/pictures/miso/Hosting-...  569472969   \n",
       "9444  https://a0.muscache.com/pictures/hosting/Hosti...  139048962   \n",
       "9445  https://a0.muscache.com/pictures/prohost-api/H...  438136382   \n",
       "9446  https://a0.muscache.com/pictures/prohost-api/H...  438136382   \n",
       "\n",
       "                                         host_url  ... calendar_updated  \\\n",
       "0        https://www.airbnb.com/users/show/219476  ...              NaN   \n",
       "1        https://www.airbnb.com/users/show/670775  ...              NaN   \n",
       "2          https://www.airbnb.com/users/show/5947  ...              NaN   \n",
       "3        https://www.airbnb.com/users/show/791187  ...              NaN   \n",
       "4        https://www.airbnb.com/users/show/806645  ...              NaN   \n",
       "...                                           ...  ...              ...   \n",
       "9442  https://www.airbnb.com/users/show/576254600  ...              NaN   \n",
       "9443  https://www.airbnb.com/users/show/569472969  ...              NaN   \n",
       "9444  https://www.airbnb.com/users/show/139048962  ...              NaN   \n",
       "9445  https://www.airbnb.com/users/show/438136382  ...              NaN   \n",
       "9446  https://www.airbnb.com/users/show/438136382  ...              NaN   \n",
       "\n",
       "     has_availability availability_365 number_of_reviews review_scores_rating  \\\n",
       "0                   t              149               171                 4.61   \n",
       "1                   t               94                 1                 0.00   \n",
       "2                   t              306               269                 4.66   \n",
       "3                   t               79               530                 4.87   \n",
       "4                   t              280               160                 4.41   \n",
       "...               ...              ...               ...                  ...   \n",
       "9442              NaN              363                 0                  NaN   \n",
       "9443              NaN              323                 0                  NaN   \n",
       "9444                t               18                 0                  NaN   \n",
       "9445                t              283                 0                  NaN   \n",
       "9446                t              283                 0                  NaN   \n",
       "\n",
       "     review_scores_cleanliness review_scores_communication  \\\n",
       "0                         4.63                        4.79   \n",
       "1                         5.00                        5.00   \n",
       "2                         4.55                        4.89   \n",
       "3                         4.88                        4.87   \n",
       "4                         4.44                        4.78   \n",
       "...                        ...                         ...   \n",
       "9442                       NaN                         NaN   \n",
       "9443                       NaN                         NaN   \n",
       "9444                       NaN                         NaN   \n",
       "9445                       NaN                         NaN   \n",
       "9446                       NaN                         NaN   \n",
       "\n",
       "     review_scores_location instant_bookable reviews_per_month  \n",
       "0                      4.51                f              1.01  \n",
       "1                      4.00                f              0.01  \n",
       "2                      4.60                f              1.68  \n",
       "3                      4.84                t              3.31  \n",
       "4                      4.52                f              1.17  \n",
       "...                     ...              ...               ...  \n",
       "9442                    NaN                f               NaN  \n",
       "9443                    NaN                f               NaN  \n",
       "9444                    NaN                f               NaN  \n",
       "9445                    NaN                f               NaN  \n",
       "9446                    NaN                f               NaN  \n",
       "\n",
       "[9447 rows x 50 columns]"
      ]
     },
     "execution_count": 177,
     "metadata": {},
     "output_type": "execute_result"
    }
   ],
   "source": [
    "#Eliminar columnas innecesarias\n",
    "# Eliminar columnas innecesarias del DataFrame\n",
    "data2 = data.drop([\n",
    "    'description', \n",
    "    'host_thumbnail_url', \n",
    "    'minimum_minimum_nights', \n",
    "    'maximum_minimum_nights', \n",
    "    'minimum_maximum_nights', \n",
    "    'maximum_maximum_nights', \n",
    "    'minimum_nights_avg_ntm', \n",
    "    'maximum_nights_avg_ntm', \n",
    "    'availability_30', \n",
    "    'availability_60', \n",
    "    'availability_90', \n",
    "    'calendar_last_scraped', \n",
    "    'number_of_reviews_ltm', \n",
    "    'number_of_reviews_l30d', \n",
    "    'first_review', \n",
    "    'last_review', \n",
    "    'review_scores_accuracy', \n",
    "    'review_scores_checkin', \n",
    "    'review_scores_value', \n",
    "    'license', \n",
    "    'calculated_host_listings_count', \n",
    "    'calculated_host_listings_count_entire_homes', \n",
    "    'calculated_host_listings_count_private_rooms', \n",
    "    'calculated_host_listings_count_shared_rooms', \n",
    "    'neighbourhood_group_cleansed'\n",
    "], axis=1)\n",
    "\n",
    "# Mostrar el DataFrame resultante\n",
    "data2\n"
   ]
  },
  {
   "cell_type": "code",
   "execution_count": 178,
   "metadata": {},
   "outputs": [
    {
     "data": {
      "text/plain": [
       "np.int64(45793)"
      ]
     },
     "execution_count": 178,
     "metadata": {},
     "output_type": "execute_result"
    }
   ],
   "source": [
    "#identificar valores nulos por dataframe\n",
    "valores_nulos=data2.isnull().sum().sum()\n",
    "valores_nulos"
   ]
  },
  {
   "cell_type": "code",
   "execution_count": 179,
   "metadata": {},
   "outputs": [
    {
     "name": "stdout",
     "output_type": "stream",
     "text": [
      "Columnas con valores nulos: ['neighborhood_overview', 'host_location', 'host_about', 'host_response_time', 'host_response_rate', 'host_acceptance_rate', 'host_is_superhost', 'host_neighbourhood', 'neighbourhood', 'bathrooms', 'bathrooms_text', 'bedrooms', 'beds', 'price', 'calendar_updated', 'has_availability', 'review_scores_rating', 'review_scores_cleanliness', 'review_scores_communication', 'review_scores_location', 'reviews_per_month']\n"
     ]
    }
   ],
   "source": [
    "columnas_con_nulos = data2.columns[data2.isnull().any()].tolist()\n",
    "print(\"Columnas con valores nulos:\", columnas_con_nulos)"
   ]
  },
  {
   "cell_type": "code",
   "execution_count": 175,
   "metadata": {},
   "outputs": [],
   "source": [
    "#data2=data.copy()"
   ]
  },
  {
   "cell_type": "markdown",
   "metadata": {},
   "source": [
    "**neighborhood_overview**"
   ]
  },
  {
   "cell_type": "code",
   "execution_count": 180,
   "metadata": {},
   "outputs": [],
   "source": [
    "#Cuarto método de sustitución de valores nulos\n",
    "#Sustituir valores nulos por un string en concreto\n",
    "#debido a que el objetivo  es atraer gente en un espacio amigable\n",
    "data2[\"neighborhood_overview\"] =data2[\"neighborhood_overview\"].fillna(\"It’s a peaceful and friendly community.\")\n"
   ]
  },
  {
   "cell_type": "code",
   "execution_count": 181,
   "metadata": {},
   "outputs": [
    {
     "data": {
      "text/plain": [
       "np.int64(0)"
      ]
     },
     "execution_count": 181,
     "metadata": {},
     "output_type": "execute_result"
    }
   ],
   "source": [
    "#Verificar cuantos datos nulos hay\n",
    "nulos = data2['neighborhood_overview'].isnull().sum()\n",
    "nulos"
   ]
  },
  {
   "cell_type": "markdown",
   "metadata": {},
   "source": [
    "**host_location**"
   ]
  },
  {
   "cell_type": "code",
   "execution_count": 182,
   "metadata": {},
   "outputs": [],
   "source": [
    "#Cuarto método de sustitución de valores nulos\n",
    "#Sustituir valores nulos por un string en concreto\n",
    "data2['host_location'] = data2['host_location'].fillna(\"Unknown\")"
   ]
  },
  {
   "cell_type": "code",
   "execution_count": 183,
   "metadata": {},
   "outputs": [
    {
     "data": {
      "text/plain": [
       "np.int64(0)"
      ]
     },
     "execution_count": 183,
     "metadata": {},
     "output_type": "execute_result"
    }
   ],
   "source": [
    "#Verificar cuantos datos nulos hay\n",
    "nulos = data2['neighborhood_overview'].isnull().sum()\n",
    "nulos"
   ]
  },
  {
   "cell_type": "markdown",
   "metadata": {},
   "source": [
    "**host_about**"
   ]
  },
  {
   "cell_type": "code",
   "execution_count": 184,
   "metadata": {},
   "outputs": [
    {
     "name": "stderr",
     "output_type": "stream",
     "text": [
      "C:\\Users\\irais\\AppData\\Local\\Temp\\ipykernel_17320\\4179649241.py:3: FutureWarning: Series.fillna with 'method' is deprecated and will raise in a future version. Use obj.ffill() or obj.bfill() instead.\n",
      "  data2['host_about'] = data2['host_about'].fillna(method='ffill')\n"
     ]
    }
   ],
   "source": [
    "#Quinto método\n",
    "#Se hizo  uso de ffill en 'host_about' para completa el valor faltante con el último valor válido anterior \n",
    "data2['host_about'] = data2['host_about'].fillna(method='ffill')"
   ]
  },
  {
   "cell_type": "code",
   "execution_count": 185,
   "metadata": {},
   "outputs": [
    {
     "data": {
      "text/plain": [
       "np.int64(0)"
      ]
     },
     "execution_count": 185,
     "metadata": {},
     "output_type": "execute_result"
    }
   ],
   "source": [
    "#Verificar cuantos datos nulos hay\n",
    "nulos = data2['neighborhood_overview'].isnull().sum()\n",
    "nulos"
   ]
  },
  {
   "cell_type": "markdown",
   "metadata": {},
   "source": [
    "**host_response_time**"
   ]
  },
  {
   "cell_type": "code",
   "execution_count": 186,
   "metadata": {},
   "outputs": [
    {
     "name": "stderr",
     "output_type": "stream",
     "text": [
      "C:\\Users\\irais\\AppData\\Local\\Temp\\ipykernel_17320\\4106380744.py:3: FutureWarning: Series.fillna with 'method' is deprecated and will raise in a future version. Use obj.ffill() or obj.bfill() instead.\n",
      "  data2[\"host_response_time\"] =data2[\"host_response_time\"].fillna(method=\"bfill\")\n"
     ]
    }
   ],
   "source": [
    "#Sexto método\n",
    "#Ayuda a completar el valor faltante con el primer valor válido que viene después del valor faltante\n",
    "data2[\"host_response_time\"] =data2[\"host_response_time\"].fillna(method=\"bfill\")"
   ]
  },
  {
   "cell_type": "code",
   "execution_count": 187,
   "metadata": {},
   "outputs": [
    {
     "data": {
      "text/plain": [
       "np.int64(0)"
      ]
     },
     "execution_count": 187,
     "metadata": {},
     "output_type": "execute_result"
    }
   ],
   "source": [
    "#Verificar cuantos datos nulos hay\n",
    "nulos = data2['neighborhood_overview'].isnull().sum()\n",
    "nulos"
   ]
  },
  {
   "cell_type": "markdown",
   "metadata": {},
   "source": [
    "**host_response_rate**"
   ]
  },
  {
   "cell_type": "code",
   "execution_count": 188,
   "metadata": {},
   "outputs": [],
   "source": [
    "#Primer método\n",
    "#Sustituimos los valores nulos con el promedio ya que al tratarse de una medida de tipo entero esto facilitaria\n",
    "#el manejo de la variable y no se obtendrian conclusiones del todo erroneas\n",
    "\n",
    "data2[\"host_response_rate\"] = data2[\"host_response_rate\"].str.rstrip('%').astype(float) / 100\n",
    "data2[\"host_response_rate\"]=data2[\"host_response_rate\"].fillna(round(data2[\"host_response_rate\"].mean(),1))"
   ]
  },
  {
   "cell_type": "code",
   "execution_count": 189,
   "metadata": {},
   "outputs": [
    {
     "data": {
      "text/plain": [
       "np.int64(0)"
      ]
     },
     "execution_count": 189,
     "metadata": {},
     "output_type": "execute_result"
    }
   ],
   "source": [
    "#Verificar cuantos datos nulos hay\n",
    "nulos = data2['host_response_rate'].isnull().sum()\n",
    "nulos"
   ]
  },
  {
   "cell_type": "markdown",
   "metadata": {},
   "source": [
    "**host_acceptance_rate**"
   ]
  },
  {
   "cell_type": "code",
   "execution_count": 190,
   "metadata": {},
   "outputs": [],
   "source": [
    "#Primer metodo\n",
    "#Primero convertimos los datos de string a float, para despues donde hay datos nulos \n",
    "#colocar el promedio \n",
    "data2[\"host_acceptance_rate\"] = data2[\"host_acceptance_rate\"].str.rstrip('%').astype(float) / 100\n",
    "data2[\"host_acceptance_rate\"]=data2[\"host_acceptance_rate\"].fillna(round(data2[\"host_acceptance_rate\"].mean(),1))\n"
   ]
  },
  {
   "cell_type": "code",
   "execution_count": 191,
   "metadata": {},
   "outputs": [
    {
     "data": {
      "text/plain": [
       "np.int64(0)"
      ]
     },
     "execution_count": 191,
     "metadata": {},
     "output_type": "execute_result"
    }
   ],
   "source": [
    "#Verificar cuantos datos nulos hay\n",
    "nulos = data2['host_acceptance_rate'].isnull().sum()\n",
    "nulos"
   ]
  },
  {
   "cell_type": "markdown",
   "metadata": {},
   "source": [
    "**host_is_superhost**"
   ]
  },
  {
   "cell_type": "code",
   "execution_count": 192,
   "metadata": {},
   "outputs": [
    {
     "name": "stderr",
     "output_type": "stream",
     "text": [
      "C:\\Users\\irais\\AppData\\Local\\Temp\\ipykernel_17320\\4049135963.py:3: FutureWarning: Series.fillna with 'method' is deprecated and will raise in a future version. Use obj.ffill() or obj.bfill() instead.\n",
      "  data2['host_is_superhost']=data2['host_is_superhost'].fillna(method=(\"ffill\"))\n"
     ]
    }
   ],
   "source": [
    "#Quinto metodo \n",
    "#En la variable host_is_superhost se hizo uso de ffill para completar el valor faltante con el último valor válido anterior \n",
    "data2['host_is_superhost']=data2['host_is_superhost'].fillna(method=(\"ffill\"))"
   ]
  },
  {
   "cell_type": "code",
   "execution_count": 193,
   "metadata": {},
   "outputs": [
    {
     "data": {
      "text/plain": [
       "np.int64(0)"
      ]
     },
     "execution_count": 193,
     "metadata": {},
     "output_type": "execute_result"
    }
   ],
   "source": [
    "#Verificar cuantos datos nulos hay\n",
    "nulos = data2['host_is_superhost'].isnull().sum()\n",
    "nulos"
   ]
  },
  {
   "cell_type": "markdown",
   "metadata": {},
   "source": [
    "**host_neighbourhood**"
   ]
  },
  {
   "cell_type": "code",
   "execution_count": 194,
   "metadata": {},
   "outputs": [],
   "source": [
    "#Cuarto método de sustitución de valores nulos\n",
    "#Sustituir valores nulos por un string en concreto\n",
    "data2['host_neighbourhood'] = data2['host_neighbourhood'].fillna(\"Unknow\")"
   ]
  },
  {
   "cell_type": "code",
   "execution_count": 195,
   "metadata": {},
   "outputs": [
    {
     "data": {
      "text/plain": [
       "np.int64(0)"
      ]
     },
     "execution_count": 195,
     "metadata": {},
     "output_type": "execute_result"
    }
   ],
   "source": [
    "#Verificar cuantos datos nulos hay\n",
    "nulos = data2['host_is_superhost'].isnull().sum()\n",
    "nulos"
   ]
  },
  {
   "cell_type": "markdown",
   "metadata": {},
   "source": [
    "**neighbourhood**"
   ]
  },
  {
   "cell_type": "code",
   "execution_count": 196,
   "metadata": {},
   "outputs": [],
   "source": [
    "#Cuarto método de sustitución de valores nulos\n",
    "#Sustituir valores nulos por un string en concreto\n",
    "data2['host_neighbourhood'] = data2['host_neighbourhood'].fillna(\"Valencia, Spain\")"
   ]
  },
  {
   "cell_type": "code",
   "execution_count": 197,
   "metadata": {},
   "outputs": [
    {
     "data": {
      "text/plain": [
       "np.int64(0)"
      ]
     },
     "execution_count": 197,
     "metadata": {},
     "output_type": "execute_result"
    }
   ],
   "source": [
    "#Verificar cuantos datos nulos hay\n",
    "nulos = data2['host_is_superhost'].isnull().sum()\n",
    "nulos"
   ]
  },
  {
   "cell_type": "markdown",
   "metadata": {},
   "source": [
    "**bathrooms**"
   ]
  },
  {
   "cell_type": "code",
   "execution_count": 198,
   "metadata": {},
   "outputs": [],
   "source": [
    "#Segundo método\n",
    "#Usamos median porque  los datos están distribuidos de manera uniforme\n",
    "data2['bathrooms']=data2['bathrooms'].fillna(round(data2['bathrooms'].median(),1))"
   ]
  },
  {
   "cell_type": "code",
   "execution_count": 199,
   "metadata": {},
   "outputs": [
    {
     "data": {
      "text/plain": [
       "np.int64(0)"
      ]
     },
     "execution_count": 199,
     "metadata": {},
     "output_type": "execute_result"
    }
   ],
   "source": [
    "#Verificar cuantos datos nulos hay\n",
    "nulos = data2['bathrooms'].isnull().sum()\n",
    "nulos"
   ]
  },
  {
   "cell_type": "markdown",
   "metadata": {},
   "source": [
    "**bathrooms_text**"
   ]
  },
  {
   "cell_type": "code",
   "execution_count": 200,
   "metadata": {},
   "outputs": [],
   "source": [
    "#Cuarto método de sustitución de valores nulos\n",
    "#Sustituir valores nulos por un string en concreto\n",
    "data2['bathrooms_text'] = data2['bathrooms_text'].fillna(\"Comfortable\")"
   ]
  },
  {
   "cell_type": "code",
   "execution_count": 201,
   "metadata": {},
   "outputs": [
    {
     "data": {
      "text/plain": [
       "np.int64(0)"
      ]
     },
     "execution_count": 201,
     "metadata": {},
     "output_type": "execute_result"
    }
   ],
   "source": [
    "#Verificar cuantos datos nulos hay\n",
    "nulos = data2['bathrooms_text'].isnull().sum()\n",
    "nulos"
   ]
  },
  {
   "cell_type": "markdown",
   "metadata": {},
   "source": [
    "**bedrooms**"
   ]
  },
  {
   "cell_type": "code",
   "execution_count": 202,
   "metadata": {},
   "outputs": [],
   "source": [
    "#Segundo método\n",
    "#Usamos median porque  los datos están distribuidos de manera uniforme\n",
    "data2['bedrooms']=data2['bedrooms'].fillna(round(data2['bedrooms'].median(),1))"
   ]
  },
  {
   "cell_type": "code",
   "execution_count": 203,
   "metadata": {},
   "outputs": [
    {
     "data": {
      "text/plain": [
       "np.int64(0)"
      ]
     },
     "execution_count": 203,
     "metadata": {},
     "output_type": "execute_result"
    }
   ],
   "source": [
    "#Verificar cuantos datos nulos hay\n",
    "nulos = data2['bathrooms'].isnull().sum()\n",
    "nulos"
   ]
  },
  {
   "cell_type": "markdown",
   "metadata": {},
   "source": [
    "**beds**"
   ]
  },
  {
   "cell_type": "code",
   "execution_count": 204,
   "metadata": {},
   "outputs": [],
   "source": [
    "#Primer método\n",
    "#Usamos mean porque  los datos no están distribuidos de manera uniforme\n",
    "data2['beds']=data2['beds'].fillna(round(data2['beds'].mean(),1))"
   ]
  },
  {
   "cell_type": "code",
   "execution_count": 205,
   "metadata": {},
   "outputs": [
    {
     "data": {
      "text/plain": [
       "np.int64(0)"
      ]
     },
     "execution_count": 205,
     "metadata": {},
     "output_type": "execute_result"
    }
   ],
   "source": [
    "nulos = data2['beds'].isnull().sum()\n",
    "nulos"
   ]
  },
  {
   "cell_type": "markdown",
   "metadata": {},
   "source": [
    "**price**"
   ]
  },
  {
   "cell_type": "code",
   "execution_count": 206,
   "metadata": {},
   "outputs": [],
   "source": [
    "#Cuarto Método de sustitución de valores nulos\n",
    "#Sustituir valores nulos por un string en concreto, se usa el cuarto método de sustitución de valores, en la columna \"price\"\n",
    "data2[\"price\"] = data2[\"price\"].fillna(\"$200\")"
   ]
  },
  {
   "cell_type": "code",
   "execution_count": 207,
   "metadata": {},
   "outputs": [
    {
     "data": {
      "text/plain": [
       "np.int64(0)"
      ]
     },
     "execution_count": 207,
     "metadata": {},
     "output_type": "execute_result"
    }
   ],
   "source": [
    "#Verificar cuantos datos nulos hay\n",
    "nulos = data2['bathrooms_text'].isnull().sum()\n",
    "nulos"
   ]
  },
  {
   "cell_type": "markdown",
   "metadata": {},
   "source": [
    "**calendar_updated**"
   ]
  },
  {
   "cell_type": "code",
   "execution_count": 208,
   "metadata": {},
   "outputs": [],
   "source": [
    "#Cuarto método\n",
    "#Sustituir valores nulos por un string en concreto\n",
    "data2[\"calendar_updated\"] = data2[\"calendar_updated\"].fillna(\"within data\")"
   ]
  },
  {
   "cell_type": "code",
   "execution_count": 209,
   "metadata": {},
   "outputs": [
    {
     "data": {
      "text/plain": [
       "np.int64(0)"
      ]
     },
     "execution_count": 209,
     "metadata": {},
     "output_type": "execute_result"
    }
   ],
   "source": [
    "#Verificar cuantos datos nulos hay\n",
    "nulos = data2['calendar_updated'].isnull().sum()\n",
    "nulos"
   ]
  },
  {
   "cell_type": "markdown",
   "metadata": {},
   "source": [
    "**has_availability**"
   ]
  },
  {
   "cell_type": "code",
   "execution_count": 210,
   "metadata": {},
   "outputs": [],
   "source": [
    "#Cuarto método\n",
    "#Sustituir valores nulos por un string en concreto\n",
    "data2[\"has_availability\"] = data2[\"has_availability\"].fillna(\"f\")"
   ]
  },
  {
   "cell_type": "code",
   "execution_count": 211,
   "metadata": {},
   "outputs": [
    {
     "data": {
      "text/plain": [
       "np.int64(0)"
      ]
     },
     "execution_count": 211,
     "metadata": {},
     "output_type": "execute_result"
    }
   ],
   "source": [
    "#Verificar cuantos datos nulos hay\n",
    "nulos = data2['has_availability'].isnull().sum()\n",
    "nulos"
   ]
  },
  {
   "cell_type": "markdown",
   "metadata": {},
   "source": [
    "**review_scores_rating**"
   ]
  },
  {
   "cell_type": "code",
   "execution_count": 212,
   "metadata": {},
   "outputs": [],
   "source": [
    "#Primer método\n",
    "#Usamos mean porque  los datos no están distribuidos de manera uniforme\n",
    "data2['review_scores_rating']=data2['review_scores_rating'].fillna(round(data2['review_scores_rating'].mean(),1))"
   ]
  },
  {
   "cell_type": "code",
   "execution_count": 214,
   "metadata": {},
   "outputs": [
    {
     "data": {
      "text/plain": [
       "np.int64(0)"
      ]
     },
     "execution_count": 214,
     "metadata": {},
     "output_type": "execute_result"
    }
   ],
   "source": [
    "#Verificar cuantos datos nulos hay\n",
    "nulos = data2['review_scores_rating'].isnull().sum()\n",
    "nulos"
   ]
  },
  {
   "cell_type": "markdown",
   "metadata": {},
   "source": [
    "**review_scores_cleanliness**"
   ]
  },
  {
   "cell_type": "code",
   "execution_count": 215,
   "metadata": {},
   "outputs": [],
   "source": [
    "#Primer método\n",
    "#Usamos mean porque mantiene un equilibrio en el análisis, ya que la media refleja una medida representativa del conjunto de datos.\n",
    "data2['review_scores_cleanliness'] = data2['review_scores_cleanliness'].fillna(round(data2['review_scores_cleanliness'].mean(), 1))"
   ]
  },
  {
   "cell_type": "code",
   "execution_count": 216,
   "metadata": {},
   "outputs": [
    {
     "data": {
      "text/plain": [
       "np.int64(0)"
      ]
     },
     "execution_count": 216,
     "metadata": {},
     "output_type": "execute_result"
    }
   ],
   "source": [
    "#Verificar cuantos datos nulos hay\n",
    "nulos = data2['review_scores_cleanliness'].isnull().sum()\n",
    "nulos"
   ]
  },
  {
   "cell_type": "markdown",
   "metadata": {},
   "source": [
    "**review_scores_communication**"
   ]
  },
  {
   "cell_type": "code",
   "execution_count": 217,
   "metadata": {},
   "outputs": [],
   "source": [
    "#Segundo Método de sustitución de valores nulos\n",
    "#Usamos median porque  los datos están distribuidos de manera uniforme\n",
    "data2[\"review_scores_communication\"] = data2[\"review_scores_communication\"].fillna(round(data2[\"review_scores_communication\"].median(),1))"
   ]
  },
  {
   "cell_type": "code",
   "execution_count": 218,
   "metadata": {},
   "outputs": [
    {
     "data": {
      "text/plain": [
       "np.int64(0)"
      ]
     },
     "execution_count": 218,
     "metadata": {},
     "output_type": "execute_result"
    }
   ],
   "source": [
    "#Verificar cuantos datos nulos hay\n",
    "nulos = data2['review_scores_communication'].isnull().sum()\n",
    "nulos"
   ]
  },
  {
   "cell_type": "markdown",
   "metadata": {},
   "source": [
    "**review_scores_location**"
   ]
  },
  {
   "cell_type": "code",
   "execution_count": 219,
   "metadata": {},
   "outputs": [],
   "source": [
    "#Segundo Método de sustitución de valores nulos\n",
    "#Usamos median porque  los datos están distribuidos de manera uniforme\n",
    "data2[\"review_scores_location\"] = data2[\"review_scores_location\"].fillna(round(data2[\"review_scores_location\"].median(),1))"
   ]
  },
  {
   "cell_type": "code",
   "execution_count": 220,
   "metadata": {},
   "outputs": [
    {
     "data": {
      "text/plain": [
       "np.int64(0)"
      ]
     },
     "execution_count": 220,
     "metadata": {},
     "output_type": "execute_result"
    }
   ],
   "source": [
    "#Verificar cuantos datos nulos hay\n",
    "nulos = data2['review_scores_location'].isnull().sum()\n",
    "nulos"
   ]
  },
  {
   "cell_type": "markdown",
   "metadata": {},
   "source": [
    "**reviews_per_month**"
   ]
  },
  {
   "cell_type": "code",
   "execution_count": 221,
   "metadata": {},
   "outputs": [],
   "source": [
    "#Segundo Método de sustitución de valores nulos\n",
    "#Usamos median porque  los datos están distribuidos de manera uniforme\n",
    "data2[\"reviews_per_month\"] = data2[\"reviews_per_month\"].fillna(round(data2[\"reviews_per_month\"].median(),1))"
   ]
  },
  {
   "cell_type": "code",
   "execution_count": 222,
   "metadata": {},
   "outputs": [
    {
     "data": {
      "text/plain": [
       "np.int64(0)"
      ]
     },
     "execution_count": 222,
     "metadata": {},
     "output_type": "execute_result"
    }
   ],
   "source": [
    "#Verificar cuantos datos nulos hay\n",
    "nulos = data2['review_scores_location'].isnull().sum()\n",
    "nulos"
   ]
  },
  {
   "cell_type": "markdown",
   "metadata": {},
   "source": [
    "**neighbourhood**"
   ]
  },
  {
   "cell_type": "code",
   "execution_count": 226,
   "metadata": {},
   "outputs": [
    {
     "name": "stderr",
     "output_type": "stream",
     "text": [
      "C:\\Users\\irais\\AppData\\Local\\Temp\\ipykernel_17320\\3015985122.py:2: FutureWarning: Series.fillna with 'method' is deprecated and will raise in a future version. Use obj.ffill() or obj.bfill() instead.\n",
      "  data2['neighbourhood']=data2['neighbourhood'].fillna(method=(\"ffill\"))\n"
     ]
    }
   ],
   "source": [
    "#En la variable neighborurhood se hizo uso de ffill para completa el valor faltante con el último valor válido anterior\n",
    "data2['neighbourhood']=data2['neighbourhood'].fillna(method=(\"ffill\"))"
   ]
  },
  {
   "cell_type": "code",
   "execution_count": 230,
   "metadata": {},
   "outputs": [
    {
     "data": {
      "text/plain": [
       "np.int64(0)"
      ]
     },
     "execution_count": 230,
     "metadata": {},
     "output_type": "execute_result"
    }
   ],
   "source": [
    "#Verificar cuantos datos nulos hay\n",
    "nulos = data2['review_scores_location'].isnull().sum()\n",
    "nulos"
   ]
  },
  {
   "cell_type": "code",
   "execution_count": 224,
   "metadata": {},
   "outputs": [
    {
     "data": {
      "text/plain": [
       "np.int64(4990)"
      ]
     },
     "execution_count": 224,
     "metadata": {},
     "output_type": "execute_result"
    }
   ],
   "source": [
    "#Identificar valores nulos por dataframe\n",
    "valores_nulos=data2.isnull().sum().sum()\n",
    "valores_nulos"
   ]
  },
  {
   "cell_type": "code",
   "execution_count": 232,
   "metadata": {},
   "outputs": [],
   "source": [
    "#Convertir DataFrame a CSV\n",
    "data2.to_csv(\"España_Venecia_sin_nulos.csv\")"
   ]
  }
 ],
 "metadata": {
  "kernelspec": {
   "display_name": "Python 3",
   "language": "python",
   "name": "python3"
  },
  "language_info": {
   "codemirror_mode": {
    "name": "ipython",
    "version": 3
   },
   "file_extension": ".py",
   "mimetype": "text/x-python",
   "name": "python",
   "nbconvert_exporter": "python",
   "pygments_lexer": "ipython3",
   "version": "3.13.1"
  }
 },
 "nbformat": 4,
 "nbformat_minor": 2
}
